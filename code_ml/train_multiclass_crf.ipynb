{
 "metadata": {
  "language_info": {
   "codemirror_mode": {
    "name": "ipython",
    "version": 3
   },
   "file_extension": ".py",
   "mimetype": "text/x-python",
   "name": "python",
   "nbconvert_exporter": "python",
   "pygments_lexer": "ipython3",
   "version": "3.8.10"
  },
  "orig_nbformat": 2,
  "kernelspec": {
   "name": "python3",
   "display_name": "Python 3.8.10 64-bit ('szeged': conda)"
  },
  "metadata": {
   "interpreter": {
    "hash": "b90a361e62b375168f9f59a2709b439bc2aa00630d9804b6e8ee92c8b4d50568"
   }
  },
  "interpreter": {
   "hash": "b90a361e62b375168f9f59a2709b439bc2aa00630d9804b6e8ee92c8b4d50568"
  }
 },
 "nbformat": 4,
 "nbformat_minor": 2,
 "cells": [
  {
   "source": [
    "# CRF for multi-class uncertainty cues recognition\n",
    "\n",
    "The notebook is based on [this tutorial](https://sklearn-crfsuite.readthedocs.io/en/latest/tutorial.html#let-s-use-conll-2002-data-to-build-a-ner-system)."
   ],
   "cell_type": "markdown",
   "metadata": {}
  },
  {
   "cell_type": "code",
   "execution_count": 1,
   "metadata": {},
   "outputs": [],
   "source": [
    "import sklearn_crfsuite\n",
    "import pickle\n",
    "import pandas as pd\n",
    "\n",
    "from sklearn.metrics import make_scorer\n",
    "from sklearn.model_selection import cross_val_score\n",
    "from sklearn.model_selection import RandomizedSearchCV\n",
    "\n",
    "from sklearn_crfsuite import scorers\n",
    "from sklearn_crfsuite import metrics"
   ]
  },
  {
   "source": [
    "# Load data\n",
    "\n",
    "- The `train.pkl` and `test.pkl` files are downloadable from [here](https://1drv.ms/u/s!AvPkt_QxBozXk7BiazucDqZkVxLo6g?e=IisuM6) (OneDrive).\n",
    "- Alternatively, you can download the full `szeged_fixed.pkl` corpus (from the same OneDrive folder) and split the data yourself.\n",
    "- Make sure to place the data in the same location (`../data/train_dev_test/`) or edit the paths."
   ],
   "cell_type": "markdown",
   "metadata": {}
  },
  {
   "cell_type": "code",
   "execution_count": 2,
   "metadata": {},
   "outputs": [],
   "source": [
    "train = pd.read_pickle('../data/train_dev_test/train.pkl').fillna('')\n",
    "test = pd.read_pickle('../data/train_dev_test/test.pkl').fillna('')"
   ]
  },
  {
   "source": [
    "# Convert features to ```crfsuite``` format"
   ],
   "cell_type": "markdown",
   "metadata": {}
  },
  {
   "cell_type": "code",
   "execution_count": 3,
   "metadata": {},
   "outputs": [],
   "source": [
    "def sent2features(df):\n",
    "    return df.drop(['sentence_id', 'labels'], axis=1).to_dict(orient='records')\n",
    "\n",
    "def sent2labels(df):\n",
    "    return df.labels.to_list()"
   ]
  },
  {
   "cell_type": "code",
   "execution_count": 4,
   "metadata": {},
   "outputs": [],
   "source": [
    "X_train = [lst for lst in train.groupby('sentence_id').apply(sent2features).to_list()]\n",
    "y_train = [lst for lst in train.groupby('sentence_id').apply(sent2labels)]"
   ]
  },
  {
   "cell_type": "code",
   "execution_count": 5,
   "metadata": {},
   "outputs": [],
   "source": [
    "X_test = [lst for lst in test.groupby('sentence_id').apply(sent2features).to_list()]\n",
    "y_test = [lst for lst in test.groupby('sentence_id').apply(sent2labels)]"
   ]
  },
  {
   "source": [
    "# Hyperparameter optimization"
   ],
   "cell_type": "markdown",
   "metadata": {}
  },
  {
   "cell_type": "code",
   "execution_count": 6,
   "metadata": {},
   "outputs": [
    {
     "output_type": "stream",
     "name": "stdout",
     "text": [
      "Fitting 3 folds for each of 30 candidates, totalling 90 fits\n",
      "/home/vanboefer/miniconda3/envs/szeged/lib/python3.8/site-packages/sklearn/base.py:209: FutureWarning: From version 0.24, get_params will raise an AttributeError if a parameter cannot be retrieved as an instance attribute. Previously it would return None.\n",
      "  warnings.warn('From version 0.24, get_params will raise an '\n",
      "[Parallel(n_jobs=4)]: Using backend LokyBackend with 4 concurrent workers.\n",
      "[Parallel(n_jobs=4)]: Done  42 tasks      | elapsed: 17.4min\n",
      "[Parallel(n_jobs=4)]: Done  90 out of  90 | elapsed: 32.7min finished\n"
     ]
    },
    {
     "output_type": "execute_result",
     "data": {
      "text/plain": [
       "RandomizedSearchCV(cv=3,\n",
       "                   estimator=CRF(algorithm='lbfgs',\n",
       "                                 all_possible_transitions=True,\n",
       "                                 keep_tempfiles=None, max_iterations=100),\n",
       "                   n_iter=30, n_jobs=4,\n",
       "                   param_distributions={'c1': [0.1, 0.2, 0.3, 0.4, 0.5, 0.6,\n",
       "                                               0.7, 0.8, 0.9],\n",
       "                                        'c2': [0.01, 0.02, 0.03, 0.05, 0.07,\n",
       "                                               0.09, 0.1, 0.2]},\n",
       "                   scoring=make_scorer(flat_f1_score, average=macro),\n",
       "                   verbose=1)"
      ]
     },
     "metadata": {},
     "execution_count": 6
    }
   ],
   "source": [
    "# define fixed parameters\n",
    "crf = sklearn_crfsuite.CRF(\n",
    "    algorithm='lbfgs',\n",
    "    max_iterations=100,\n",
    "    all_possible_transitions=True\n",
    ")\n",
    "\n",
    "# define parameters to search\n",
    "params_space = {\n",
    "    'c1': [0.1, 0.2, 0.3, 0.4, 0.5, 0.6, 0.7, 0.8, 0.9],\n",
    "    'c2': [0.01, 0.02, 0.03, 0.05, 0.07, 0.09, 0.1, 0.2],\n",
    "}\n",
    "\n",
    "# metric for evaluation\n",
    "f1_scorer = make_scorer(metrics.flat_f1_score, average='macro')\n",
    "\n",
    "# search\n",
    "rs = RandomizedSearchCV(\n",
    "    crf,\n",
    "    params_space,\n",
    "    cv=3,\n",
    "    verbose=1,\n",
    "    scoring=f1_scorer,\n",
    "    n_iter=30,\n",
    "    n_jobs=4,\n",
    ")\n",
    "\n",
    "rs.fit(X_train, y_train)"
   ]
  },
  {
   "cell_type": "code",
   "execution_count": 7,
   "metadata": {},
   "outputs": [
    {
     "output_type": "stream",
     "name": "stdout",
     "text": [
      "best params: {'c2': 0.05, 'c1': 0.7}\nbest CV score: 0.7980690350824143\n"
     ]
    }
   ],
   "source": [
    "# best results\n",
    "print('best params:', rs.best_params_)\n",
    "print('best CV score:', rs.best_score_)"
   ]
  },
  {
   "source": [
    "# Evaluation (optimized params model)"
   ],
   "cell_type": "markdown",
   "metadata": {}
  },
  {
   "cell_type": "code",
   "execution_count": 8,
   "metadata": {},
   "outputs": [],
   "source": [
    "crf = rs.best_estimator_\n",
    "y_pred = crf.predict(X_test)"
   ]
  },
  {
   "source": [
    "## Classification report"
   ],
   "cell_type": "markdown",
   "metadata": {}
  },
  {
   "cell_type": "code",
   "execution_count": 9,
   "metadata": {},
   "outputs": [
    {
     "output_type": "stream",
     "name": "stderr",
     "text": [
      "/home/vanboefer/miniconda3/envs/szeged/lib/python3.8/site-packages/sklearn/utils/validation.py:67: FutureWarning: Pass labels=None as keyword args. From version 0.25 passing these as positional arguments will result in an error\n",
      "  warnings.warn(\"Pass {} as keyword args. From version 0.25 \"\n",
      "              precision    recall  f1-score   support\n",
      "\n",
      "           C      0.998     0.999     0.998    104937\n",
      "           D      0.860     0.824     0.842       142\n",
      "           E      0.872     0.776     0.821       624\n",
      "           I      0.817     0.802     0.809       111\n",
      "           N      0.785     0.593     0.675        86\n",
      "\n",
      "    accuracy                          0.997    105900\n",
      "   macro avg      0.866     0.799     0.829    105900\n",
      "weighted avg      0.997     0.997     0.997    105900\n",
      "\n"
     ]
    }
   ],
   "source": [
    "print(metrics.flat_classification_report(y_test, y_pred, digits=3))"
   ]
  },
  {
   "source": [
    "# Save model"
   ],
   "cell_type": "markdown",
   "metadata": {}
  },
  {
   "cell_type": "code",
   "execution_count": 11,
   "metadata": {},
   "outputs": [],
   "source": [
    "with open('../model/crf.pkl','wb') as f:\n",
    "    pickle.dump(crf, f)"
   ]
  },
  {
   "cell_type": "code",
   "execution_count": null,
   "metadata": {},
   "outputs": [],
   "source": []
  }
 ]
}