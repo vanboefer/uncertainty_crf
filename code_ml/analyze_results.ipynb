{
 "cells": [
  {
   "cell_type": "code",
   "execution_count": 1,
   "metadata": {},
   "outputs": [],
   "source": [
    "import pickle\n",
    "import pandas as pd\n",
    "import matplotlib.pyplot as plt\n",
    "from collections import Counter\n",
    "from itertools import chain\n",
    "from sklearn.metrics import confusion_matrix, classification_report\n",
    "from sklearn.metrics import ConfusionMatrixDisplay"
   ]
  },
  {
   "cell_type": "markdown",
   "metadata": {},
   "source": [
    "# Load test data and predictions"
   ]
  },
  {
   "cell_type": "code",
   "execution_count": 2,
   "metadata": {},
   "outputs": [],
   "source": [
    "test = pd.read_pickle('../data/train_dev_test/test.pkl')"
   ]
  },
  {
   "cell_type": "code",
   "execution_count": 3,
   "metadata": {},
   "outputs": [],
   "source": [
    "y_pred = pd.read_pickle('../data/output/predictions.pkl')"
   ]
  },
  {
   "cell_type": "code",
   "execution_count": 4,
   "metadata": {},
   "outputs": [],
   "source": [
    "flatten = lambda lst: list(chain(*lst))\n",
    "\n",
    "df = pd.concat([test.reset_index(), pd.Series(flatten(y_pred), name='predictions')], axis=1)"
   ]
  },
  {
   "cell_type": "markdown",
   "metadata": {},
   "source": [
    "# Classification report"
   ]
  },
  {
   "cell_type": "code",
   "execution_count": 5,
   "metadata": {},
   "outputs": [
    {
     "name": "stdout",
     "output_type": "stream",
     "text": [
      "              precision    recall  f1-score   support\n",
      "\n",
      "           C      0.998     0.999     0.998    104937\n",
      "           D      0.860     0.824     0.842       142\n",
      "           E      0.872     0.776     0.821       624\n",
      "           I      0.817     0.802     0.809       111\n",
      "           N      0.785     0.593     0.675        86\n",
      "\n",
      "    accuracy                          0.997    105900\n",
      "   macro avg      0.866     0.799     0.829    105900\n",
      "weighted avg      0.997     0.997     0.997    105900\n",
      "\n"
     ]
    }
   ],
   "source": [
    "print(classification_report(df.labels, df.predictions, digits=3))"
   ]
  },
  {
   "cell_type": "markdown",
   "metadata": {},
   "source": [
    "# Confusion matrix"
   ]
  },
  {
   "cell_type": "code",
   "execution_count": 6,
   "metadata": {},
   "outputs": [
    {
     "data": {
      "image/png": "[encoded data removed]",
      "text/plain": [
       "<Figure size 432x288 with 2 Axes>"
      ]
     },
     "metadata": {
      "needs_background": "light"
     },
     "output_type": "display_data"
    },
    {
     "data": {
      "image/png": "[encoded data removed]",
      "text/plain": [
       "<Figure size 432x288 with 2 Axes>"
      ]
     },
     "metadata": {
      "needs_background": "light"
     },
     "output_type": "display_data"
    }
   ],
   "source": [
    "labels = ['C', 'D', 'E', 'I', 'N']\n",
    "\n",
    "cm_norm = confusion_matrix(df.labels, df.predictions, labels=labels, normalize='true')\n",
    "cm_norm_display = ConfusionMatrixDisplay(cm_norm, display_labels=labels).plot(cmap='Greens')\n",
    "\n",
    "cm = confusion_matrix(df.labels, df.predictions, labels=labels)\n",
    "cm_display = ConfusionMatrixDisplay(cm, display_labels=labels).plot(cmap='Greens')\n",
    "\n",
    "# cm_norm_display.figure_.savefig('../data/output/crf_cm_norm.png')\n",
    "# cm_display.figure_.savefig('../data/output/crf_cm.png')"
   ]
  },
  {
   "cell_type": "markdown",
   "metadata": {},
   "source": [
    "# State features"
   ]
  },
  {
   "cell_type": "code",
   "execution_count": 7,
   "metadata": {},
   "outputs": [
    {
     "name": "stdout",
     "output_type": "stream",
     "text": [
      "Top positive:\n",
      "4.786929, N, stem:onc\n",
      "4.316556, D, stem:suppos\n",
      "3.740931, E, stem:worri\n",
      "3.739321, E, prefix_4:seem\n",
      "3.530235, E, prefix_5:imply\n",
      "3.506318, D, prefix_4:fore\n",
      "3.458567, E, suffix_5:bably\n",
      "3.381728, C, lemma_-1:probabl\n",
      "3.344847, I, stem:whether\n",
      "3.207101, I, lemma_1:verifi\n",
      "\n",
      "Top negative:\n",
      "-2.458727, C, stem:worri\n",
      "-2.474128, C, lemma_2:open\n",
      "-2.542099, C, lemma_-1:remain\n",
      "-2.573519, C, prefix_3:won\n",
      "-2.693637, C, lemma_1:exclud\n",
      "-2.730529, E, lemma_1:like\n",
      "-3.060865, C, stem:presum\n",
      "-3.102576, C, prefix_5:presu\n",
      "-3.12438, C, stem:rumor\n",
      "-4.038436, C, lemma_1:ascertain\n"
     ]
    }
   ],
   "source": [
    "def print_state_features(state_features):\n",
    "    for (attr, label), weight in state_features:\n",
    "        print(f\"{weight}, {label}, {attr}\")\n",
    "\n",
    "# load model\n",
    "with open('../model/crf.pkl','rb') as f:\n",
    "    crf = pickle.load(f)\n",
    "\n",
    "print(\"Top positive:\")\n",
    "print_state_features(Counter(crf.state_features_).most_common(10))\n",
    "\n",
    "print(\"\\nTop negative:\")\n",
    "print_state_features(Counter(crf.state_features_).most_common()[-10:])"
   ]
  },
  {
   "cell_type": "markdown",
   "metadata": {},
   "source": [
    "# Binary classification\n",
    "\n",
    "The 4 uncertainty classes are lumped into one \"uncertain\" class."
   ]
  },
  {
   "cell_type": "code",
   "execution_count": 26,
   "metadata": {},
   "outputs": [],
   "source": [
    "def binarize(s):\n",
    "    return s.str.replace('[EDIN]', 'U', regex=True)\n",
    "\n",
    "df = df.assign(\n",
    "    labels_bin = lambda df: binarize(df.labels),\n",
    "    preds_bin = lambda df: binarize(df.predictions),\n",
    ")"
   ]
  },
  {
   "cell_type": "code",
   "execution_count": 27,
   "metadata": {},
   "outputs": [
    {
     "name": "stdout",
     "output_type": "stream",
     "text": [
      "              precision    recall  f1-score   support\n",
      "\n",
      "           C      0.998     0.999     0.998    104937\n",
      "           U      0.867     0.779     0.821       963\n",
      "\n",
      "    accuracy                          0.997    105900\n",
      "   macro avg      0.933     0.889     0.910    105900\n",
      "weighted avg      0.997     0.997     0.997    105900\n",
      "\n"
     ]
    }
   ],
   "source": [
    "print(classification_report(df.labels_bin, df.preds_bin, digits=3))"
   ]
  },
  {
   "cell_type": "code",
   "execution_count": null,
   "metadata": {},
   "outputs": [],
   "source": []
  }
 ],
 "metadata": {
  "interpreter": {
   "hash": "eabd239bf4f283389ab94af3ee5ae2144e632f4fab10ba68b2ef569de0f0e3f7"
  },
  "kernelspec": {
   "display_name": "Python 3.8.10 64-bit ('szeged': conda)",
   "name": "python3"
  },
  "language_info": {
   "codemirror_mode": {
    "name": "ipython",
    "version": 3
   },
   "file_extension": ".py",
   "mimetype": "text/x-python",
   "name": "python",
   "nbconvert_exporter": "python",
   "pygments_lexer": "ipython3",
   "version": "3.8.10"
  },
  "orig_nbformat": 2
 },
 "nbformat": 4,
 "nbformat_minor": 2
}
