{
 "metadata": {
  "language_info": {
   "codemirror_mode": {
    "name": "ipython",
    "version": 3
   },
   "file_extension": ".py",
   "mimetype": "text/x-python",
   "name": "python",
   "nbconvert_exporter": "python",
   "pygments_lexer": "ipython3",
   "version": "3.8.10"
  },
  "orig_nbformat": 2,
  "kernelspec": {
   "name": "python3810jvsc74a57bd0b90a361e62b375168f9f59a2709b439bc2aa00630d9804b6e8ee92c8b4d50568",
   "display_name": "Python 3.8.10 64-bit ('szeged': conda)"
  },
  "metadata": {
   "interpreter": {
    "hash": "b90a361e62b375168f9f59a2709b439bc2aa00630d9804b6e8ee92c8b4d50568"
   }
  }
 },
 "nbformat": 4,
 "nbformat_minor": 2,
 "cells": [
  {
   "cell_type": "code",
   "execution_count": 1,
   "metadata": {},
   "outputs": [],
   "source": [
    "import pandas as pd\n",
    "from sklearn.model_selection import GroupShuffleSplit"
   ]
  },
  {
   "source": [
    "# Split train-dev-test\n",
    "The data split takes into account grouping by sentence_id, i.e. makes sure that the whole sentence stays together."
   ],
   "cell_type": "markdown",
   "metadata": {}
  },
  {
   "cell_type": "code",
   "execution_count": 2,
   "metadata": {},
   "outputs": [],
   "source": [
    "data = pd.read_pickle('../data/szeged_fixed.pkl')"
   ]
  },
  {
   "cell_type": "code",
   "execution_count": 3,
   "metadata": {},
   "outputs": [],
   "source": [
    "# 80% of data goes into train df\n",
    "gss = GroupShuffleSplit(n_splits=1, test_size=0.2, random_state=42)\n",
    "for train_idx, other_idx in gss.split(data.words, data.labels, groups=data.sentence_id):\n",
    "    train = data.iloc[train_idx]\n",
    "    other = data.iloc[other_idx]\n",
    "\n",
    "# the non-train data is split 50/50 into development df and test df\n",
    "gss = GroupShuffleSplit(n_splits=1, test_size=0.5, random_state=19)\n",
    "for dev_idx, test_idx in gss.split(other.words, other.labels, groups=other.sentence_id):\n",
    "    dev = other.iloc[dev_idx]\n",
    "    test = other.iloc[test_idx]"
   ]
  },
  {
   "source": [
    "## Check that sentences were split correctly"
   ],
   "cell_type": "markdown",
   "metadata": {}
  },
  {
   "cell_type": "code",
   "execution_count": 4,
   "metadata": {},
   "outputs": [
    {
     "output_type": "stream",
     "name": "stdout",
     "text": [
      "False\nFalse\nFalse\n"
     ]
    }
   ],
   "source": [
    "print(test.sentence_id.isin(train.sentence_id).any())\n",
    "print(dev.sentence_id.isin(train.sentence_id).any())\n",
    "print(dev.sentence_id.isin(test.sentence_id).any())"
   ]
  },
  {
   "cell_type": "code",
   "execution_count": 5,
   "metadata": {},
   "outputs": [
    {
     "output_type": "stream",
     "name": "stdout",
     "text": [
      "data.sentence_id.nunique()=42739\ntrain.sentence_id.nunique()=34191\ndev.sentence_id.nunique()=4274\ntest.sentence_id.nunique()=4274\n"
     ]
    }
   ],
   "source": [
    "print(f\"{data.sentence_id.nunique()=}\")\n",
    "print(f\"{train.sentence_id.nunique()=}\")\n",
    "print(f\"{dev.sentence_id.nunique()=}\")\n",
    "print(f\"{test.sentence_id.nunique()=}\")"
   ]
  },
  {
   "source": [
    "## Check that label proportions are good"
   ],
   "cell_type": "markdown",
   "metadata": {}
  },
  {
   "cell_type": "code",
   "execution_count": 6,
   "metadata": {},
   "outputs": [
    {
     "output_type": "execute_result",
     "data": {
      "text/plain": [
       "            all  prc_total   train  prc_train     dev  prc_dev    test  \\\n",
       "labels                                                                   \n",
       "C       1055973      99.02  843372      98.99  107664    99.13  104937   \n",
       "D          1546       0.14    1262       0.15     142     0.13     142   \n",
       "E          6525       0.61    5328       0.63     573     0.53     624   \n",
       "I          1496       0.14    1245       0.15     140     0.13     111   \n",
       "N           931       0.09     756       0.09      89     0.08      86   \n",
       "total   1066471     100.00  851963     100.00  108608   100.00  105900   \n",
       "\n",
       "        prc_test  \n",
       "labels            \n",
       "C          99.09  \n",
       "D           0.13  \n",
       "E           0.59  \n",
       "I           0.10  \n",
       "N           0.08  \n",
       "total     100.00  "
      ],
      "text/html": "<div>\n<style scoped>\n    .dataframe tbody tr th:only-of-type {\n        vertical-align: middle;\n    }\n\n    .dataframe tbody tr th {\n        vertical-align: top;\n    }\n\n    .dataframe thead th {\n        text-align: right;\n    }\n</style>\n<table border=\"1\" class=\"dataframe\">\n  <thead>\n    <tr style=\"text-align: right;\">\n      <th></th>\n      <th>all</th>\n      <th>prc_total</th>\n      <th>train</th>\n      <th>prc_train</th>\n      <th>dev</th>\n      <th>prc_dev</th>\n      <th>test</th>\n      <th>prc_test</th>\n    </tr>\n    <tr>\n      <th>labels</th>\n      <th></th>\n      <th></th>\n      <th></th>\n      <th></th>\n      <th></th>\n      <th></th>\n      <th></th>\n      <th></th>\n    </tr>\n  </thead>\n  <tbody>\n    <tr>\n      <th>C</th>\n      <td>1055973</td>\n      <td>99.02</td>\n      <td>843372</td>\n      <td>98.99</td>\n      <td>107664</td>\n      <td>99.13</td>\n      <td>104937</td>\n      <td>99.09</td>\n    </tr>\n    <tr>\n      <th>D</th>\n      <td>1546</td>\n      <td>0.14</td>\n      <td>1262</td>\n      <td>0.15</td>\n      <td>142</td>\n      <td>0.13</td>\n      <td>142</td>\n      <td>0.13</td>\n    </tr>\n    <tr>\n      <th>E</th>\n      <td>6525</td>\n      <td>0.61</td>\n      <td>5328</td>\n      <td>0.63</td>\n      <td>573</td>\n      <td>0.53</td>\n      <td>624</td>\n      <td>0.59</td>\n    </tr>\n    <tr>\n      <th>I</th>\n      <td>1496</td>\n      <td>0.14</td>\n      <td>1245</td>\n      <td>0.15</td>\n      <td>140</td>\n      <td>0.13</td>\n      <td>111</td>\n      <td>0.10</td>\n    </tr>\n    <tr>\n      <th>N</th>\n      <td>931</td>\n      <td>0.09</td>\n      <td>756</td>\n      <td>0.09</td>\n      <td>89</td>\n      <td>0.08</td>\n      <td>86</td>\n      <td>0.08</td>\n    </tr>\n    <tr>\n      <th>total</th>\n      <td>1066471</td>\n      <td>100.00</td>\n      <td>851963</td>\n      <td>100.00</td>\n      <td>108608</td>\n      <td>100.00</td>\n      <td>105900</td>\n      <td>100.00</td>\n    </tr>\n  </tbody>\n</table>\n</div>"
     },
     "metadata": {},
     "execution_count": 6
    }
   ],
   "source": [
    "def make_table(df):\n",
    "    return df.pivot_table(\n",
    "        index='labels',\n",
    "        values='words',\n",
    "        aggfunc='count',\n",
    "        margins=True,\n",
    "        margins_name='total',\n",
    "    )\n",
    "\n",
    "table_all = make_table(data).assign(\n",
    "    prc_total=lambda df: (df.words / df.words.loc['total']).mul(100).round(2),\n",
    ").rename(columns={'words': 'all'})\n",
    "\n",
    "table_train = make_table(train).assign(\n",
    "    prc_train=lambda df: (df.words / df.words.loc['total']).mul(100).round(2),\n",
    ").rename(columns={'words': 'train'})\n",
    "\n",
    "table_dev = make_table(dev).assign(\n",
    "    prc_dev=lambda df: (df.words / df.words.loc['total']).mul(100).round(2),\n",
    ").rename(columns={'words': 'dev'})\n",
    "\n",
    "table_test = make_table(test).assign(\n",
    "    prc_test=lambda df: (df.words / df.words.loc['total']).mul(100).round(2),\n",
    ").rename(columns={'words': 'test'})\n",
    "\n",
    "table = table_all.join([table_train, table_dev, table_test])\n",
    "table"
   ]
  },
  {
   "source": [
    "## Save"
   ],
   "cell_type": "markdown",
   "metadata": {}
  },
  {
   "cell_type": "code",
   "execution_count": 7,
   "metadata": {},
   "outputs": [],
   "source": [
    "train.to_pickle('../data/train_dev_test/train.pkl')\n",
    "dev.to_pickle('../data/train_dev_test/dev.pkl')\n",
    "test.to_pickle('../data/train_dev_test/test.pkl')"
   ]
  },
  {
   "cell_type": "code",
   "execution_count": null,
   "metadata": {},
   "outputs": [],
   "source": []
  }
 ]
}